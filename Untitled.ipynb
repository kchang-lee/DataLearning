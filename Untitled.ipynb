{
 "cells": [
  {
   "cell_type": "code",
   "execution_count": 2,
   "id": "05acc818-dc10-4ef8-84d1-ea0b8793242d",
   "metadata": {},
   "outputs": [
    {
     "data": {
      "text/html": [
       "<div>\n",
       "<style scoped>\n",
       "    .dataframe tbody tr th:only-of-type {\n",
       "        vertical-align: middle;\n",
       "    }\n",
       "\n",
       "    .dataframe tbody tr th {\n",
       "        vertical-align: top;\n",
       "    }\n",
       "\n",
       "    .dataframe thead th {\n",
       "        text-align: right;\n",
       "    }\n",
       "</style>\n",
       "<table border=\"1\" class=\"dataframe\">\n",
       "  <thead>\n",
       "    <tr style=\"text-align: right;\">\n",
       "      <th></th>\n",
       "      <th>상품명</th>\n",
       "      <th>총수량</th>\n",
       "      <th>매출합계</th>\n",
       "    </tr>\n",
       "  </thead>\n",
       "  <tbody>\n",
       "    <tr>\n",
       "      <th>0</th>\n",
       "      <td>에스프레소</td>\n",
       "      <td>3</td>\n",
       "      <td>8400.0</td>\n",
       "    </tr>\n",
       "    <tr>\n",
       "      <th>1</th>\n",
       "      <td>아메리카노</td>\n",
       "      <td>2</td>\n",
       "      <td>7000.0</td>\n",
       "    </tr>\n",
       "    <tr>\n",
       "      <th>2</th>\n",
       "      <td>라떼</td>\n",
       "      <td>1</td>\n",
       "      <td>4200.0</td>\n",
       "    </tr>\n",
       "  </tbody>\n",
       "</table>\n",
       "</div>"
      ],
      "text/plain": [
       "     상품명  총수량    매출합계\n",
       "0  에스프레소    3  8400.0\n",
       "1  아메리카노    2  7000.0\n",
       "2     라떼    1  4200.0"
      ]
     },
     "execution_count": 2,
     "metadata": {},
     "output_type": "execute_result"
    }
   ],
   "source": [
    "import sqlite3\n",
    "import pandas as pd\n",
    "\n",
    "# 1️⃣ DB 파일 연결 (없으면 새로 생성됨)\n",
    "연결 = sqlite3.connect(\"연습용.db\")\n",
    "커서 = 연결.cursor()\n",
    "\n",
    "# 2️⃣ 기존 테이블 삭제 후 새로 생성\n",
    "커서.execute(\"DROP TABLE IF EXISTS 판매내역\")\n",
    "커서.execute(\"\"\"\n",
    "CREATE TABLE 판매내역 (\n",
    "    번호       INTEGER PRIMARY KEY,\n",
    "    상품명     TEXT NOT NULL,\n",
    "    수량       INTEGER NOT NULL,\n",
    "    단가       REAL NOT NULL,\n",
    "    판매일자   TEXT NOT NULL\n",
    ")\n",
    "\"\"\")\n",
    "\n",
    "# 3️⃣ 예시 데이터 입력\n",
    "데이터목록 = [\n",
    "    (1, '아메리카노', 2, 3500, '2025-10-30'),\n",
    "    (2, '라떼',       1, 4200, '2025-10-30'),\n",
    "    (3, '에스프레소', 3, 2800, '2025-10-31'),\n",
    "]\n",
    "커서.executemany(\"INSERT INTO 판매내역 VALUES (?, ?, ?, ?, ?)\", 데이터목록)\n",
    "연결.commit()\n",
    "\n",
    "# 4️⃣ SQL로 데이터 조회 → pandas DataFrame 변환\n",
    "쿼리 = \"\"\"\n",
    "SELECT \n",
    "  상품명,\n",
    "  SUM(수량) AS 총수량,\n",
    "  ROUND(SUM(수량 * 단가), 0) AS 매출합계\n",
    "FROM 판매내역\n",
    "GROUP BY 상품명\n",
    "ORDER BY 매출합계 DESC\n",
    "\"\"\"\n",
    "결과 = pd.read_sql_query(쿼리, 연결)\n",
    "\n",
    "연결.close()\n",
    "\n",
    "# 5️⃣ 결과 출력\n",
    "결과\n"
   ]
  },
  {
   "cell_type": "code",
   "execution_count": null,
   "id": "8082083b-c658-44d3-8751-60d410812027",
   "metadata": {},
   "outputs": [],
   "source": []
  }
 ],
 "metadata": {
  "kernelspec": {
   "display_name": "Python [conda env:base] *",
   "language": "python",
   "name": "conda-base-py"
  },
  "language_info": {
   "codemirror_mode": {
    "name": "ipython",
    "version": 3
   },
   "file_extension": ".py",
   "mimetype": "text/x-python",
   "name": "python",
   "nbconvert_exporter": "python",
   "pygments_lexer": "ipython3",
   "version": "3.13.5"
  }
 },
 "nbformat": 4,
 "nbformat_minor": 5
}
